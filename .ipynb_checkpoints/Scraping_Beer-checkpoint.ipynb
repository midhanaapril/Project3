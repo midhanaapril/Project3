{
 "cells": [
  {
   "cell_type": "code",
   "execution_count": 2,
   "id": "63198764",
   "metadata": {},
   "outputs": [],
   "source": [
    "from splinter import Browser\n",
    "from bs4 import BeautifulSoup as soup\n",
    "import pandas as pd\n",
    "from webdriver_manager.chrome import ChromeDriverManager"
   ]
  },
  {
   "cell_type": "code",
   "execution_count": 3,
   "id": "980fb515",
   "metadata": {},
   "outputs": [
    {
     "name": "stderr",
     "output_type": "stream",
     "text": [
      "\n",
      "\n",
      "====== WebDriver manager ======\n",
      "Current google-chrome version is 97.0.4692\n",
      "Get LATEST chromedriver version for 97.0.4692 google-chrome\n",
      "Driver [C:\\Users\\Hannah\\.wdm\\drivers\\chromedriver\\win32\\97.0.4692.71\\chromedriver.exe] found in cache\n"
     ]
    }
   ],
   "source": [
    "executable_path = {'executable_path': ChromeDriverManager().install()}\n",
    "browser = Browser('chrome', **executable_path, headless=False)  "
   ]
  },
  {
   "cell_type": "code",
   "execution_count": 4,
   "id": "3b23ad80",
   "metadata": {},
   "outputs": [],
   "source": [
    "url = 'https://www.brewersassociation.org/directories/breweries/?location=GA'\n",
    "browser.visit(url)"
   ]
  },
  {
   "cell_type": "code",
   "execution_count": 5,
   "id": "0487b481",
   "metadata": {},
   "outputs": [],
   "source": [
    "for i in range(4):\n",
    "    browser.execute_script(\"window.scrollTo(0, document.body.scrollHeight);\")"
   ]
  },
  {
   "cell_type": "code",
   "execution_count": 6,
   "id": "083cbf61",
   "metadata": {},
   "outputs": [],
   "source": [
    "# Optional delay for loading the page\n",
    "browser.is_element_present_by_css('div.list_text', wait_time=1)\n",
    "\n",
    "# Convert the browser html to a soup object\n",
    "html = browser.html\n",
    "news_soup = soup(html, 'html.parser')"
   ]
  },
  {
   "cell_type": "code",
   "execution_count": null,
   "id": "218d8208",
   "metadata": {},
   "outputs": [],
   "source": [
    "slide_elem = news_soup.select_one('div.company-content')\n",
    "slide_elem"
   ]
  },
  {
   "cell_type": "code",
   "execution_count": null,
   "id": "ba57697f",
   "metadata": {},
   "outputs": [],
   "source": [
    "results = slide_elem.find('h3', class_='with-mini-hr')\n",
    "results"
   ]
  },
  {
   "cell_type": "code",
   "execution_count": null,
   "id": "79873714",
   "metadata": {},
   "outputs": [],
   "source": [
    "results.text"
   ]
  },
  {
   "cell_type": "code",
   "execution_count": null,
   "id": "086aeb4a",
   "metadata": {},
   "outputs": [],
   "source": [
    "#find all of the company content \n",
    "div_data = news_soup.find_all('div',class_='company-content')\n",
    "div_data"
   ]
  },
  {
   "cell_type": "code",
   "execution_count": 11,
   "id": "a2a085df",
   "metadata": {},
   "outputs": [
    {
     "ename": "AttributeError",
     "evalue": "ResultSet object has no attribute 'text'. You're probably treating a list of elements like a single element. Did you call find_all() when you meant to call find()?",
     "output_type": "error",
     "traceback": [
      "\u001b[1;31m---------------------------------------------------------------------------\u001b[0m",
      "\u001b[1;31mAttributeError\u001b[0m                            Traceback (most recent call last)",
      "\u001b[1;32m<ipython-input-11-d65ebed03037>\u001b[0m in \u001b[0;36m<module>\u001b[1;34m\u001b[0m\n\u001b[1;32m----> 1\u001b[1;33m \u001b[0mcompany_names\u001b[0m \u001b[1;33m=\u001b[0m \u001b[0mnews_soup\u001b[0m\u001b[1;33m.\u001b[0m\u001b[0mfind_all\u001b[0m\u001b[1;33m(\u001b[0m\u001b[1;34m'h3'\u001b[0m\u001b[1;33m,\u001b[0m \u001b[0mclass_\u001b[0m\u001b[1;33m=\u001b[0m\u001b[1;34m'with-mini-hr'\u001b[0m\u001b[1;33m)\u001b[0m\u001b[1;33m.\u001b[0m\u001b[0mtext\u001b[0m\u001b[1;33m\u001b[0m\u001b[1;33m\u001b[0m\u001b[0m\n\u001b[0m\u001b[0;32m      2\u001b[0m \u001b[0mcompany_names\u001b[0m\u001b[1;33m\u001b[0m\u001b[1;33m\u001b[0m\u001b[0m\n\u001b[0;32m      3\u001b[0m \u001b[0mlen\u001b[0m\u001b[1;33m(\u001b[0m\u001b[0mcompany_names\u001b[0m\u001b[1;33m)\u001b[0m\u001b[1;33m\u001b[0m\u001b[1;33m\u001b[0m\u001b[0m\n",
      "\u001b[1;32m~\\anaconda3\\lib\\site-packages\\bs4\\element.py\u001b[0m in \u001b[0;36m__getattr__\u001b[1;34m(self, key)\u001b[0m\n\u001b[0;32m   2171\u001b[0m     \u001b[1;32mdef\u001b[0m \u001b[0m__getattr__\u001b[0m\u001b[1;33m(\u001b[0m\u001b[0mself\u001b[0m\u001b[1;33m,\u001b[0m \u001b[0mkey\u001b[0m\u001b[1;33m)\u001b[0m\u001b[1;33m:\u001b[0m\u001b[1;33m\u001b[0m\u001b[1;33m\u001b[0m\u001b[0m\n\u001b[0;32m   2172\u001b[0m         \u001b[1;34m\"\"\"Raise a helpful exception to explain a common code fix.\"\"\"\u001b[0m\u001b[1;33m\u001b[0m\u001b[1;33m\u001b[0m\u001b[0m\n\u001b[1;32m-> 2173\u001b[1;33m         raise AttributeError(\n\u001b[0m\u001b[0;32m   2174\u001b[0m             \u001b[1;34m\"ResultSet object has no attribute '%s'. You're probably treating a list of elements like a single element. Did you call find_all() when you meant to call find()?\"\u001b[0m \u001b[1;33m%\u001b[0m \u001b[0mkey\u001b[0m\u001b[1;33m\u001b[0m\u001b[1;33m\u001b[0m\u001b[0m\n\u001b[0;32m   2175\u001b[0m         )\n",
      "\u001b[1;31mAttributeError\u001b[0m: ResultSet object has no attribute 'text'. You're probably treating a list of elements like a single element. Did you call find_all() when you meant to call find()?"
     ]
    }
   ],
   "source": [
    "company_names = news_soup.find_all('h3', class_='with-mini-hr')\n",
    "company_names\n",
    "len(company_names)"
   ]
  },
  {
   "cell_type": "code",
   "execution_count": 10,
   "id": "05b1a395",
   "metadata": {},
   "outputs": [
    {
     "data": {
      "text/plain": [
       "[<h3 class=\"with-mini-hr\" itemprop=\"name\">52 Brewing</h3>,\n",
       " <h3 class=\"with-mini-hr\" itemprop=\"name\">6S Brewing Company</h3>,\n",
       " <h3 class=\"with-mini-hr\" itemprop=\"name\">Abide Brewing Company</h3>,\n",
       " <h3 class=\"with-mini-hr\" itemprop=\"name\">Akademia Brewing Company</h3>,\n",
       " <h3 class=\"with-mini-hr\" itemprop=\"name\">Amici At Trillith</h3>,\n",
       " <h3 class=\"with-mini-hr\" itemprop=\"name\">Amici Madison</h3>,\n",
       " <h3 class=\"with-mini-hr\" itemprop=\"name\">Anderby Brewing</h3>,\n",
       " <h3 class=\"with-mini-hr\" itemprop=\"name\">Angry Hops Brewing</h3>,\n",
       " <h3 class=\"with-mini-hr\" itemprop=\"name\">Anheuser-Busch Inc – Cartersville</h3>,\n",
       " <h3 class=\"with-mini-hr\" itemprop=\"name\">Arches Brewing</h3>,\n",
       " <h3 class=\"with-mini-hr\" itemprop=\"name\">Athentic Brewing Company</h3>,\n",
       " <h3 class=\"with-mini-hr\" itemprop=\"name\">Atlanta Brewing</h3>,\n",
       " <h3 class=\"with-mini-hr\" itemprop=\"name\">Awkward Brewing</h3>,\n",
       " <h3 class=\"with-mini-hr\" itemprop=\"name\">Back Paddle Brewing</h3>,\n",
       " <h3 class=\"with-mini-hr\" itemprop=\"name\">Barrier Island Brewing</h3>,\n",
       " <h3 class=\"with-mini-hr\" itemprop=\"name\">Beacon Brewing Co.</h3>,\n",
       " <h3 class=\"with-mini-hr\" itemprop=\"name\">Best End Brewing Company</h3>,\n",
       " <h3 class=\"with-mini-hr\" itemprop=\"name\">Big O Brewery</h3>,\n",
       " <h3 class=\"with-mini-hr\" itemprop=\"name\">Biggerstaff Brewing Company</h3>,\n",
       " <h3 class=\"with-mini-hr\" itemprop=\"name\">Black Bee Brewery</h3>,\n",
       " <h3 class=\"with-mini-hr\" itemprop=\"name\">Blackbird Farms Brewery</h3>,\n",
       " <h3 class=\"with-mini-hr\" itemprop=\"name\">BlueTarp Brewing Co</h3>,\n",
       " <h3 class=\"with-mini-hr\" itemprop=\"name\">Brackish Beer Company</h3>,\n",
       " <h3 class=\"with-mini-hr\" itemprop=\"name\">Braselton Brewing Company</h3>,\n",
       " <h3 class=\"with-mini-hr\" itemprop=\"name\">Brewery in Planning - Cumming, GA</h3>,\n",
       " <h3 class=\"with-mini-hr\" itemprop=\"name\">Bucking Goat Brewing Company</h3>,\n",
       " <h3 class=\"with-mini-hr\" itemprop=\"name\">Burnt Hickory Brewery</h3>,\n",
       " <h3 class=\"with-mini-hr\" itemprop=\"name\">Camp Brewing Company</h3>,\n",
       " <h3 class=\"with-mini-hr\" itemprop=\"name\">Candler Rail Brewery</h3>,\n",
       " <h3 class=\"with-mini-hr\" itemprop=\"name\">Cannon Brewpub</h3>,\n",
       " <h3 class=\"with-mini-hr\" itemprop=\"name\">Cartecay River Brewing Co</h3>,\n",
       " <h3 class=\"with-mini-hr\" itemprop=\"name\">Chattabrewchee Southern Brewhouse</h3>,\n",
       " <h3 class=\"with-mini-hr\" itemprop=\"name\">Cherokee Brewing + Pizza Company</h3>,\n",
       " <h3 class=\"with-mini-hr\" itemprop=\"name\">Cherry Street Brewing</h3>,\n",
       " <h3 class=\"with-mini-hr\" itemprop=\"name\">Cherry Street Brewpub At Halcyon</h3>,\n",
       " <h3 class=\"with-mini-hr\" itemprop=\"name\">Coastal Empire Beer Co</h3>,\n",
       " <h3 class=\"with-mini-hr\" itemprop=\"name\">Cochran Mill Brewing Company, LLC</h3>,\n",
       " <h3 class=\"with-mini-hr\" itemprop=\"name\">Contrast Artisan Ales</h3>,\n",
       " <h3 class=\"with-mini-hr\" itemprop=\"name\">Creature Comforts Brewing Co.</h3>,\n",
       " <h3 class=\"with-mini-hr\" itemprop=\"name\">Creature Comforts Production Facility At Southern Mill</h3>,\n",
       " <h3 class=\"with-mini-hr\" itemprop=\"name\">Cultivation Brewing Co.</h3>,\n",
       " <h3 class=\"with-mini-hr\" itemprop=\"name\">Currahee Brewing Company</h3>,\n",
       " <h3 class=\"with-mini-hr\" itemprop=\"name\">Currahee Brewing Company</h3>,\n",
       " <h3 class=\"with-mini-hr\" itemprop=\"name\">Debellation Brewing Co</h3>,\n",
       " <h3 class=\"with-mini-hr\" itemprop=\"name\">Down Home Brewing Co.</h3>,\n",
       " <h3 class=\"with-mini-hr\" itemprop=\"name\">Dr. Scofflaw's At The Works ATL</h3>,\n",
       " <h3 class=\"with-mini-hr\" itemprop=\"name\">Drowned Valley Brewing Co.</h3>,\n",
       " <h3 class=\"with-mini-hr\" itemprop=\"name\">Dry County Brewing Company</h3>,\n",
       " <h3 class=\"with-mini-hr\" itemprop=\"name\">Eagle Creek Brewing Company</h3>,\n",
       " <h3 class=\"with-mini-hr\" itemprop=\"name\">Elsewhere Brewing Company</h3>,\n",
       " <h3 class=\"with-mini-hr\" itemprop=\"name\">Enotah Valley Brewing Company</h3>,\n",
       " <h3 class=\"with-mini-hr\" itemprop=\"name\">EuroBevs</h3>,\n",
       " <h3 class=\"with-mini-hr\" itemprop=\"name\">Eventide Brewing Co</h3>,\n",
       " <h3 class=\"with-mini-hr\" itemprop=\"name\">Fall Line Brewing Co.</h3>,\n",
       " <h3 class=\"with-mini-hr\" itemprop=\"name\">Fannin Brewing</h3>,\n",
       " <h3 class=\"with-mini-hr\" itemprop=\"name\">Fire Maker Brewing Company</h3>,\n",
       " <h3 class=\"with-mini-hr\" itemprop=\"name\">Firewater Brewing Company</h3>,\n",
       " <h3 class=\"with-mini-hr\" itemprop=\"name\">Fox City Brewing Co</h3>,\n",
       " <h3 class=\"with-mini-hr\" itemprop=\"name\">From The Earth Brewing Company</h3>,\n",
       " <h3 class=\"with-mini-hr\" itemprop=\"name\">Gate City Brewing Company</h3>,\n",
       " <h3 class=\"with-mini-hr\" itemprop=\"name\">Georgia Beer Co</h3>,\n",
       " <h3 class=\"with-mini-hr\" itemprop=\"name\">Glover Park Brewery</h3>,\n",
       " <h3 class=\"with-mini-hr\" itemprop=\"name\">Good Word Brewing &amp; Public House</h3>,\n",
       " <h3 class=\"with-mini-hr\" itemprop=\"name\">Green Line Brewery</h3>,\n",
       " <h3 class=\"with-mini-hr\" itemprop=\"name\">Grumpy Old Men Brewing</h3>,\n",
       " <h3 class=\"with-mini-hr\" itemprop=\"name\">Halfway Crooks Beer</h3>,\n",
       " <h3 class=\"with-mini-hr\" itemprop=\"name\">Hall and Hound Brewing Company</h3>,\n",
       " <h3 class=\"with-mini-hr\" itemprop=\"name\">Heavale Brewing Company</h3>,\n",
       " <h3 class=\"with-mini-hr\" itemprop=\"name\">Hiawassee Brew</h3>,\n",
       " <h3 class=\"with-mini-hr\" itemprop=\"name\">High Card Brewing</h3>,\n",
       " <h3 class=\"with-mini-hr\" itemprop=\"name\">Hippin' Hops and Oyster Bar</h3>,\n",
       " <h3 class=\"with-mini-hr\" itemprop=\"name\">Hixtown Brewing Co</h3>,\n",
       " <h3 class=\"with-mini-hr\" itemprop=\"name\">Hop Atomica</h3>,\n",
       " <h3 class=\"with-mini-hr\" itemprop=\"name\">Hopstix</h3>,\n",
       " <h3 class=\"with-mini-hr\" itemprop=\"name\">Horned Owl Brewing</h3>,\n",
       " <h3 class=\"with-mini-hr\" itemprop=\"name\">Indio Brewing Co</h3>,\n",
       " <h3 class=\"with-mini-hr\" itemprop=\"name\">Inner Voice Brewing</h3>,\n",
       " <h3 class=\"with-mini-hr\" itemprop=\"name\">Iron Hill Brewery &amp; Restaurant - Buckhead</h3>,\n",
       " <h3 class=\"with-mini-hr\" itemprop=\"name\">Iron Hill Brewery &amp; Restaurant - Perimeter</h3>,\n",
       " <h3 class=\"with-mini-hr\" itemprop=\"name\">Ironmonger Brewing</h3>,\n",
       " <h3 class=\"with-mini-hr\" itemprop=\"name\">Ironshield Brewing</h3>,\n",
       " <h3 class=\"with-mini-hr\" itemprop=\"name\">Jekyll Brewing</h3>,\n",
       " <h3 class=\"with-mini-hr\" itemprop=\"name\">Jekyll Brewing - Alpharetta City Center</h3>,\n",
       " <h3 class=\"with-mini-hr\" itemprop=\"name\">Johnnie MacCracken's Celtic Firehouse Pub, Inc.</h3>,\n",
       " <h3 class=\"with-mini-hr\" itemprop=\"name\">Kettlerock Brewing</h3>,\n",
       " <h3 class=\"with-mini-hr\" itemprop=\"name\">Khonso Brewing</h3>,\n",
       " <h3 class=\"with-mini-hr\" itemprop=\"name\">Left Nut Brewing Co</h3>,\n",
       " <h3 class=\"with-mini-hr\" itemprop=\"name\">Line Creek Brewing</h3>,\n",
       " <h3 class=\"with-mini-hr\" itemprop=\"name\">Little Cottage Brewery</h3>,\n",
       " <h3 class=\"with-mini-hr\" itemprop=\"name\">MAZURT Brewing Company</h3>,\n",
       " <h3 class=\"with-mini-hr\" itemprop=\"name\">Macon Beer Company</h3>,\n",
       " <h3 class=\"with-mini-hr\" itemprop=\"name\">Major Humphrey's Brewing Company</h3>,\n",
       " <h3 class=\"with-mini-hr\" itemprop=\"name\">Mandatory Fun Beer Works</h3>,\n",
       " <h3 class=\"with-mini-hr\" itemprop=\"name\">Max Lager's Wood Fired Grill &amp; Brewery</h3>,\n",
       " <h3 class=\"with-mini-hr\" itemprop=\"name\">MillerCoors Brewing Co - Albany</h3>,\n",
       " <h3 class=\"with-mini-hr\" itemprop=\"name\">Monday Night Brewing</h3>,\n",
       " <h3 class=\"with-mini-hr\" itemprop=\"name\">Monday Night Brewing - Garage</h3>,\n",
       " <h3 class=\"with-mini-hr\" itemprop=\"name\">Monkey Wrench Brewing Company LLC</h3>,\n",
       " <h3 class=\"with-mini-hr\" itemprop=\"name\">Moon River Brewing Co</h3>,\n",
       " <h3 class=\"with-mini-hr\" itemprop=\"name\">New Realm Brewing</h3>,\n",
       " <h3 class=\"with-mini-hr\" itemprop=\"name\">New Realm Brewing Savannah</h3>,\n",
       " <h3 class=\"with-mini-hr\" itemprop=\"name\">NoFo Brew Co</h3>,\n",
       " <h3 class=\"with-mini-hr\" itemprop=\"name\">Normaltown Brewing Co.</h3>,\n",
       " <h3 class=\"with-mini-hr\" itemprop=\"name\">Ocmulgee Brewpub</h3>,\n",
       " <h3 class=\"with-mini-hr\" itemprop=\"name\">Oconee Brewing Company</h3>,\n",
       " <h3 class=\"with-mini-hr\" itemprop=\"name\">Omaha Brewing Company</h3>,\n",
       " <h3 class=\"with-mini-hr\" itemprop=\"name\">Orpheus Brewing</h3>,\n",
       " <h3 class=\"with-mini-hr\" itemprop=\"name\">Our Culture Brewing Company</h3>,\n",
       " <h3 class=\"with-mini-hr\" itemprop=\"name\">Outrun Brewing Company</h3>,\n",
       " <h3 class=\"with-mini-hr\" itemprop=\"name\">Park Tavern Brewery</h3>,\n",
       " <h3 class=\"with-mini-hr\" itemprop=\"name\">Pendley Creek Brewing Company</h3>,\n",
       " <h3 class=\"with-mini-hr\" itemprop=\"name\">Phantom Horse Brewing</h3>,\n",
       " <h3 class=\"with-mini-hr\" itemprop=\"name\">Piedmont Brewery and Kitchen</h3>,\n",
       " <h3 class=\"with-mini-hr\" itemprop=\"name\">Pontoon Brewing Company</h3>,\n",
       " <h3 class=\"with-mini-hr\" itemprop=\"name\">Porter Brew &amp; Que Brewery</h3>,\n",
       " <h3 class=\"with-mini-hr\" itemprop=\"name\">Porter Pizza &amp; Brewery</h3>,\n",
       " <h3 class=\"with-mini-hr\" itemprop=\"name\">Pretoria Fields Collective</h3>,\n",
       " <h3 class=\"with-mini-hr\" itemprop=\"name\">Printer's Ale Manufacturing Company</h3>,\n",
       " <h3 class=\"with-mini-hr\" itemprop=\"name\">Red Hare Brewing - The Still On the Square</h3>,\n",
       " <h3 class=\"with-mini-hr\" itemprop=\"name\">Red Hare Brewing Company</h3>,\n",
       " <h3 class=\"with-mini-hr\" itemprop=\"name\">Red Top Brewhouse</h3>,\n",
       " <h3 class=\"with-mini-hr\" itemprop=\"name\">Reformation Brewery</h3>,\n",
       " <h3 class=\"with-mini-hr\" itemprop=\"name\">Reformation Brewery Smyrna</h3>,\n",
       " <h3 class=\"with-mini-hr\" itemprop=\"name\">Reformation Brewery Woodstock</h3>,\n",
       " <h3 class=\"with-mini-hr\" itemprop=\"name\">Rightside Brewing</h3>,\n",
       " <h3 class=\"with-mini-hr\" itemprop=\"name\">Riverwatch Brewery</h3>,\n",
       " <h3 class=\"with-mini-hr\" itemprop=\"name\">RockSolid Brewing Co</h3>,\n",
       " <h3 class=\"with-mini-hr\" itemprop=\"name\">Round Trip Brewing Company</h3>,\n",
       " <h3 class=\"with-mini-hr\" itemprop=\"name\">Sabbath Brewing</h3>,\n",
       " <h3 class=\"with-mini-hr\" itemprop=\"name\">Savannah River Brewing Company</h3>,\n",
       " <h3 class=\"with-mini-hr\" itemprop=\"name\">Sceptre Brewing Arts</h3>,\n",
       " <h3 class=\"with-mini-hr\" itemprop=\"name\">Schoolhouse Brewing</h3>,\n",
       " <h3 class=\"with-mini-hr\" itemprop=\"name\">Scofflaw Brewing Co</h3>,\n",
       " <h3 class=\"with-mini-hr\" itemprop=\"name\">Second Self Beer Company</h3>,\n",
       " <h3 class=\"with-mini-hr\" itemprop=\"name\">Senoia Beer Company</h3>,\n",
       " <h3 class=\"with-mini-hr\" itemprop=\"name\">Service Brewing Company</h3>,\n",
       " <h3 class=\"with-mini-hr\" itemprop=\"name\">Side Tracks Brewing Company</h3>,\n",
       " <h3 class=\"with-mini-hr\" itemprop=\"name\">Silver Bluff Brewing Co</h3>,\n",
       " <h3 class=\"with-mini-hr\" itemprop=\"name\">Slow Pour Brewing Company</h3>,\n",
       " <h3 class=\"with-mini-hr\" itemprop=\"name\">Social Fox Brewing</h3>,\n",
       " <h3 class=\"with-mini-hr\" itemprop=\"name\">Southbound Brewing Co</h3>,\n",
       " <h3 class=\"with-mini-hr\" itemprop=\"name\">Southern Brewing Company</h3>,\n",
       " <h3 class=\"with-mini-hr\" itemprop=\"name\">Southern Brewing Company - Monroe</h3>,\n",
       " <h3 class=\"with-mini-hr\" itemprop=\"name\">Southern Hart Brewing</h3>,\n",
       " <h3 class=\"with-mini-hr\" itemprop=\"name\">Southern Philosophy Brewing</h3>,\n",
       " <h3 class=\"with-mini-hr\" itemprop=\"name\">Split Fin Brewing</h3>,\n",
       " <h3 class=\"with-mini-hr\" itemprop=\"name\">Stats Brewpub</h3>,\n",
       " <h3 class=\"with-mini-hr\" itemprop=\"name\">Steady Hand Beer Co.</h3>,\n",
       " <h3 class=\"with-mini-hr\" itemprop=\"name\">StillFire Brewing</h3>,\n",
       " <h3 class=\"with-mini-hr\" itemprop=\"name\">Strange Duck Brewing</h3>,\n",
       " <h3 class=\"with-mini-hr\" itemprop=\"name\">SweetWater Brewing Co</h3>,\n",
       " <h3 class=\"with-mini-hr\" itemprop=\"name\">Talking Rock Brewery</h3>,\n",
       " <h3 class=\"with-mini-hr\" itemprop=\"name\">Tantrum Brewing Company</h3>,\n",
       " <h3 class=\"with-mini-hr\" itemprop=\"name\">Terrapin ATL Brew Lab</h3>,\n",
       " <h3 class=\"with-mini-hr\" itemprop=\"name\">Terrapin Beer Co</h3>,\n",
       " <h3 class=\"with-mini-hr\" itemprop=\"name\">The Bold Monk Brewing Co.</h3>,\n",
       " <h3 class=\"with-mini-hr\" itemprop=\"name\">The Dahlonega Brewery</h3>,\n",
       " <h3 class=\"with-mini-hr\" itemprop=\"name\">The Lost Druid Brewery</h3>,\n",
       " <h3 class=\"with-mini-hr\" itemprop=\"name\">The Village Corner / Stone Mountain Brewery</h3>,\n",
       " <h3 class=\"with-mini-hr\" itemprop=\"name\">The Woodlands At SweetWater</h3>,\n",
       " <h3 class=\"with-mini-hr\" itemprop=\"name\">The Wrecking Bar Brewpub</h3>,\n",
       " <h3 class=\"with-mini-hr\" itemprop=\"name\">Three Taverns Craft Brewery</h3>,\n",
       " <h3 class=\"with-mini-hr\" itemprop=\"name\">Three Taverns Imaginarium</h3>,\n",
       " <h3 class=\"with-mini-hr\" itemprop=\"name\">Torched Hop Brewing Company</h3>,\n",
       " <h3 class=\"with-mini-hr\" itemprop=\"name\">Towerhouse Farm Brewery</h3>,\n",
       " <h3 class=\"with-mini-hr\" itemprop=\"name\">Tucker Brewing Company</h3>,\n",
       " <h3 class=\"with-mini-hr\" itemprop=\"name\">Twain's Brewpub &amp; Billiards</h3>,\n",
       " <h3 class=\"with-mini-hr\" itemprop=\"name\">Two Tides Brewing Company</h3>,\n",
       " <h3 class=\"with-mini-hr\" itemprop=\"name\">Variant Brewing Company</h3>,\n",
       " <h3 class=\"with-mini-hr\" itemprop=\"name\">Whistle Top Brew Company</h3>,\n",
       " <h3 class=\"with-mini-hr\" itemprop=\"name\">Wild Heaven - West End Brewery &amp; Gardens</h3>,\n",
       " <h3 class=\"with-mini-hr\" itemprop=\"name\">Wild Heaven Beer</h3>,\n",
       " <h3 class=\"with-mini-hr\" itemprop=\"name\">Wild Leap Brewing Company</h3>,\n",
       " <h3 class=\"with-mini-hr\" itemprop=\"name\">Yes Face Beer</h3>]"
      ]
     },
     "execution_count": 10,
     "metadata": {},
     "output_type": "execute_result"
    }
   ],
   "source": [
    "company_names"
   ]
  }
 ],
 "metadata": {
  "kernelspec": {
   "display_name": "Python 3",
   "language": "python",
   "name": "python3"
  },
  "language_info": {
   "codemirror_mode": {
    "name": "ipython",
    "version": 3
   },
   "file_extension": ".py",
   "mimetype": "text/x-python",
   "name": "python",
   "nbconvert_exporter": "python",
   "pygments_lexer": "ipython3",
   "version": "3.8.8"
  }
 },
 "nbformat": 4,
 "nbformat_minor": 5
}
